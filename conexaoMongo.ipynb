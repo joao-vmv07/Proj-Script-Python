{
 "cells": [
  {
   "cell_type": "code",
   "execution_count": 1,
   "metadata": {},
   "outputs": [],
   "source": [
    "from pymongo import MongoClient\n",
    "import random"
   ]
  },
  {
   "cell_type": "code",
   "execution_count": 2,
   "metadata": {},
   "outputs": [],
   "source": [
    "#Conexão com o banco Dados para puxar documentos\n",
    "# Fornecedor \n",
    "# Cliente\n",
    "# Empresa\n",
    "\n",
    "mongoclient = MongoClient(\n",
    "   host='mongodb://192.168.5.98:27017',\n",
    "   authSource='admin'\n",
    ")"
   ]
  },
  {
   "cell_type": "code",
   "execution_count": 3,
   "metadata": {},
   "outputs": [],
   "source": [
    "#Recebendo a base e a collection\n",
    "\n",
    "db_parceiro = mongoclient[\"parceiro_dev\"]\n",
    "\n",
    "coll_parceiro_fornecedor = db_parceiro[\"clienteFornecedor\"]\n",
    "coll_parceiro_cliente = db_parceiro[\"clienteFornecedor\"]\n",
    "coll_empresa = db_parceiro[\"empresa\"]"
   ]
  },
  {
   "cell_type": "code",
   "execution_count": 4,
   "metadata": {},
   "outputs": [],
   "source": [
    "#Criando a query e o cursor\n",
    "contmaticId = 40180\n",
    "\n",
    "\n",
    "queryDocForncedor = {\"fornecedor\": True, \"_id.contmaticId\": contmaticId}\n",
    "queryDocCliente = {\"cliente\": True, \"_id.contmaticId\": contmaticId}\n",
    "\n",
    "projection = {\n",
    "    \"_id\": 1, \n",
    "} \n",
    "\n",
    "cursorFornecedor = coll_parceiro_fornecedor.find(queryDocForncedor, projection)\n",
    "cursorCliente = coll_parceiro_cliente.find(queryDocCliente, projection)"
   ]
  },
  {
   "cell_type": "code",
   "execution_count": 5,
   "metadata": {},
   "outputs": [],
   "source": [
    "#Criando a lista do cursor\n",
    "parceiro_fornecedor = list(cursorFornecedor)\n",
    "parceiro_cliente = list(cursorCliente)\n",
    "\n",
    "cursorFornecedor.close()\n",
    "cursorCliente.close()"
   ]
  },
  {
   "cell_type": "code",
   "execution_count": 6,
   "metadata": {},
   "outputs": [],
   "source": [
    "documentosFornecedor = list(map(lambda fornecedorDoc: fornecedorDoc[\"_id\"][\"documento\"], parceiro_fornecedor))\n",
    "documentosCliente = list(map(lambda clienteDoc: clienteDoc[\"_id\"][\"documento\"], parceiro_cliente))"
   ]
  },
  {
   "cell_type": "code",
   "execution_count": 7,
   "metadata": {},
   "outputs": [
    {
     "data": {
      "text/plain": [
       "['19368927001421',\n",
       " '08604923000164',\n",
       " '01318426847',\n",
       " '07499706000199',\n",
       " '30155588893',\n",
       " '04789048000181',\n",
       " '10341460842',\n",
       " '05931024000188',\n",
       " '58110735000158',\n",
       " '07063698000133',\n",
       " '56095144000123',\n",
       " '50611268000138',\n",
       " '62686811000145',\n",
       " '00835252000130',\n",
       " '51180214000128',\n",
       " '35404088000191',\n",
       " '53965268000124',\n",
       " '85675887000170',\n",
       " '16013096000162',\n",
       " '15017450000164',\n",
       " '77763651000168',\n",
       " '99999999000191',\n",
       " '33577579000109']"
      ]
     },
     "execution_count": 7,
     "metadata": {},
     "output_type": "execute_result"
    }
   ],
   "source": [
    "documentosFornecedor"
   ]
  },
  {
   "cell_type": "code",
   "execution_count": 8,
   "metadata": {},
   "outputs": [
    {
     "data": {
      "text/plain": [
       "['19368927001421',\n",
       " '61069613000170',\n",
       " '08604923000164',\n",
       " '01318426847',\n",
       " '07499706000199',\n",
       " '30155588893',\n",
       " '04789048000181',\n",
       " '10341460842',\n",
       " '05931024000188',\n",
       " '58110735000158',\n",
       " '07063698000133',\n",
       " '56095144000123',\n",
       " '50611268000138',\n",
       " '62686811000145',\n",
       " '00835252000130',\n",
       " '51180214000128',\n",
       " '57731986000197',\n",
       " '35404088000191',\n",
       " '53965268000124',\n",
       " '85675887000170',\n",
       " '50951809000177',\n",
       " '15017450000164',\n",
       " '01043851038',\n",
       " '77583717000138',\n",
       " '21610849841']"
      ]
     },
     "execution_count": 8,
     "metadata": {},
     "output_type": "execute_result"
    }
   ],
   "source": [
    "documentosCliente"
   ]
  },
  {
   "cell_type": "code",
   "execution_count": 9,
   "metadata": {},
   "outputs": [],
   "source": [
    "todosDocumentos = documentosFornecedor + documentosCliente\n",
    "listaDocumentos = set(todosDocumentos)\n"
   ]
  },
  {
   "cell_type": "code",
   "execution_count": 10,
   "metadata": {},
   "outputs": [],
   "source": [
    "def generateDocumentoFornecedor():\n",
    "    return random.choice(documentosFornecedor)\n",
    "\n",
    "def listDocumentDataBase():\n",
    "    return listaDocumentos"
   ]
  },
  {
   "cell_type": "code",
   "execution_count": 11,
   "metadata": {},
   "outputs": [
    {
     "data": {
      "text/plain": [
       "'51180214000128'"
      ]
     },
     "execution_count": 11,
     "metadata": {},
     "output_type": "execute_result"
    }
   ],
   "source": [
    "generateDocumentoFornecedor()"
   ]
  },
  {
   "cell_type": "code",
   "execution_count": 14,
   "metadata": {},
   "outputs": [
    {
     "data": {
      "text/plain": [
       "set"
      ]
     },
     "execution_count": 14,
     "metadata": {},
     "output_type": "execute_result"
    }
   ],
   "source": [
    "listaDocumentos"
   ]
  }
 ],
 "metadata": {
  "kernelspec": {
   "display_name": "Python 3",
   "language": "python",
   "name": "python3"
  },
  "language_info": {
   "codemirror_mode": {
    "name": "ipython",
    "version": 3
   },
   "file_extension": ".py",
   "mimetype": "text/x-python",
   "name": "python",
   "nbconvert_exporter": "python",
   "pygments_lexer": "ipython3",
   "version": "3.11.1"
  },
  "orig_nbformat": 4,
  "vscode": {
   "interpreter": {
    "hash": "ba7ae0cf963ad41d5ef8327127b25e75227db6cae1606a44bab9eddf3d9970e7"
   }
  }
 },
 "nbformat": 4,
 "nbformat_minor": 2
}
