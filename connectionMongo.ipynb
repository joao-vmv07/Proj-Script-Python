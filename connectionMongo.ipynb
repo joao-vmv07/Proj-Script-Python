{
 "cells": [
  {
   "cell_type": "code",
   "execution_count": 6,
   "metadata": {},
   "outputs": [],
   "source": [
    "import pymongo\n",
    "import pandas as pd"
   ]
  },
  {
   "cell_type": "code",
   "execution_count": 7,
   "metadata": {},
   "outputs": [],
   "source": [
    "#Desenv\n",
    "mongoClient = pymongo.MongoClient(\n",
    "    host='mongodb://192.168.5.98:27017',\n",
    "    authSource='admin'\n",
    ")"
   ]
  },
  {
   "cell_type": "code",
   "execution_count": 8,
   "metadata": {},
   "outputs": [],
   "source": [
    "db_parceiro = mongoClient[\"parceiro_dev\"]\n",
    "col_parceiro_cliente_contmatic = db_parceiro[\"clienteContmatic\"]"
   ]
  },
  {
   "cell_type": "code",
   "execution_count": 9,
   "metadata": {},
   "outputs": [],
   "source": [
    "query = {}\n",
    "projection = {\n",
    "    'id':1,\n",
    "    'regimeTributario':1\n",
    "}\n",
    "cursor = col_parceiro_cliente_contmatic.find(query,projection)"
   ]
  },
  {
   "cell_type": "code",
   "execution_count": 10,
   "metadata": {},
   "outputs": [],
   "source": [
    "df_parceiro_cliente = pd.DataFrame(list(cursor))\n",
    "cursor.close()"
   ]
  },
  {
   "cell_type": "code",
   "execution_count": 11,
   "metadata": {},
   "outputs": [
    {
     "data": {
      "text/html": [
       "<div>\n",
       "<style scoped>\n",
       "    .dataframe tbody tr th:only-of-type {\n",
       "        vertical-align: middle;\n",
       "    }\n",
       "\n",
       "    .dataframe tbody tr th {\n",
       "        vertical-align: top;\n",
       "    }\n",
       "\n",
       "    .dataframe thead th {\n",
       "        text-align: right;\n",
       "    }\n",
       "</style>\n",
       "<table border=\"1\" class=\"dataframe\">\n",
       "  <thead>\n",
       "    <tr style=\"text-align: right;\">\n",
       "      <th></th>\n",
       "      <th>_id</th>\n",
       "      <th>regimeTributario</th>\n",
       "    </tr>\n",
       "  </thead>\n",
       "  <tbody>\n",
       "    <tr>\n",
       "      <th>0</th>\n",
       "      <td>50143</td>\n",
       "      <td>SIMPLES_NACIONAL</td>\n",
       "    </tr>\n",
       "    <tr>\n",
       "      <th>1</th>\n",
       "      <td>32725</td>\n",
       "      <td>REGIME_NORMAL</td>\n",
       "    </tr>\n",
       "    <tr>\n",
       "      <th>2</th>\n",
       "      <td>40115</td>\n",
       "      <td>SIMPLES_NACIONAL</td>\n",
       "    </tr>\n",
       "    <tr>\n",
       "      <th>3</th>\n",
       "      <td>80015</td>\n",
       "      <td>SIMPLES_NACIONAL</td>\n",
       "    </tr>\n",
       "    <tr>\n",
       "      <th>4</th>\n",
       "      <td>99999</td>\n",
       "      <td>SIMPLES_NACIONAL</td>\n",
       "    </tr>\n",
       "    <tr>\n",
       "      <th>...</th>\n",
       "      <td>...</td>\n",
       "      <td>...</td>\n",
       "    </tr>\n",
       "    <tr>\n",
       "      <th>418</th>\n",
       "      <td>17934</td>\n",
       "      <td>SIMPLES_NACIONAL</td>\n",
       "    </tr>\n",
       "    <tr>\n",
       "      <th>419</th>\n",
       "      <td>17935</td>\n",
       "      <td>SIMPLES_NACIONAL</td>\n",
       "    </tr>\n",
       "    <tr>\n",
       "      <th>420</th>\n",
       "      <td>17937</td>\n",
       "      <td>MEI</td>\n",
       "    </tr>\n",
       "    <tr>\n",
       "      <th>421</th>\n",
       "      <td>17943</td>\n",
       "      <td>SIMPLES_NACIONAL</td>\n",
       "    </tr>\n",
       "    <tr>\n",
       "      <th>422</th>\n",
       "      <td>17945</td>\n",
       "      <td>SIMPLES_NACIONAL</td>\n",
       "    </tr>\n",
       "  </tbody>\n",
       "</table>\n",
       "<p>423 rows × 2 columns</p>\n",
       "</div>"
      ],
      "text/plain": [
       "       _id  regimeTributario\n",
       "0    50143  SIMPLES_NACIONAL\n",
       "1    32725     REGIME_NORMAL\n",
       "2    40115  SIMPLES_NACIONAL\n",
       "3    80015  SIMPLES_NACIONAL\n",
       "4    99999  SIMPLES_NACIONAL\n",
       "..     ...               ...\n",
       "418  17934  SIMPLES_NACIONAL\n",
       "419  17935  SIMPLES_NACIONAL\n",
       "420  17937               MEI\n",
       "421  17943  SIMPLES_NACIONAL\n",
       "422  17945  SIMPLES_NACIONAL\n",
       "\n",
       "[423 rows x 2 columns]"
      ]
     },
     "execution_count": 11,
     "metadata": {},
     "output_type": "execute_result"
    }
   ],
   "source": [
    "df_parceiro_cliente"
   ]
  }
 ],
 "metadata": {
  "kernelspec": {
   "display_name": "Python 3",
   "language": "python",
   "name": "python3"
  },
  "language_info": {
   "codemirror_mode": {
    "name": "ipython",
    "version": 3
   },
   "file_extension": ".py",
   "mimetype": "text/x-python",
   "name": "python",
   "nbconvert_exporter": "python",
   "pygments_lexer": "ipython3",
   "version": "3.11.1"
  },
  "orig_nbformat": 4,
  "vscode": {
   "interpreter": {
    "hash": "ba7ae0cf963ad41d5ef8327127b25e75227db6cae1606a44bab9eddf3d9970e7"
   }
  }
 },
 "nbformat": 4,
 "nbformat_minor": 2
}
