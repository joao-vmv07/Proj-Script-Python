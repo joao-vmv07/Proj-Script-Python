{
 "cells": [
  {
   "cell_type": "code",
   "execution_count": 23,
   "metadata": {},
   "outputs": [],
   "source": [
    "from pymongo import MongoClient"
   ]
  },
  {
   "cell_type": "code",
   "execution_count": 24,
   "metadata": {},
   "outputs": [],
   "source": [
    "mongoclient = MongoClient(\n",
    "        host='mongodb://192.168.5.98:27017',\n",
    "        authSource='admin'\n",
    ")"
   ]
  },
  {
   "cell_type": "code",
   "execution_count": 25,
   "metadata": {},
   "outputs": [],
   "source": [
    "db_connecticont_social = mongoclient[\"connectcont-social-desenv\"]\n",
    "coll_usuario = db_connecticont_social[\"usuario\"]\n",
    "\n",
    "queryUsuarioEmail = {\"email\": \"gicax38573@lurenwu.com\"}\n",
    "projection = {\n",
    "        \"_id\": 1, \n",
    "}\n",
    "cursor_usuario = coll_usuario.find(queryUsuarioEmail, projection)\n",
    "objecId = list(cursor_usuario)"
   ]
  },
  {
   "cell_type": "code",
   "execution_count": 26,
   "metadata": {},
   "outputs": [],
   "source": [
    "\n",
    "idUsuario = str(objecId[0][\"_id\"]).split('\\'')[0]"
   ]
  },
  {
   "cell_type": "code",
   "execution_count": 27,
   "metadata": {},
   "outputs": [],
   "source": [
    "\n",
    "cursor_usuario.close()"
   ]
  },
  {
   "cell_type": "code",
   "execution_count": 28,
   "metadata": {},
   "outputs": [],
   "source": [
    "coll_usuario_contrato = db_connecticont_social[\"usuarioContrato\"]\n",
    "queryUsuarioId = {\"_id.codigo\": f'{idUsuario}'}\n",
    "projection = {\n",
    "    \"_id.contmaticId\": 1,\n",
    "}\n",
    "\n",
    "cursor_usuario_contrato = coll_usuario_contrato.find(queryUsuarioId, projection)\n",
    "cursor_usuario.close()"
   ]
  },
  {
   "cell_type": "code",
   "execution_count": 29,
   "metadata": {},
   "outputs": [
    {
     "data": {
      "text/plain": [
       "[424]"
      ]
     },
     "execution_count": 29,
     "metadata": {},
     "output_type": "execute_result"
    }
   ],
   "source": [
    "lista_contratos = list(cursor_usuario_contrato)\n",
    "contmaticIds = list(map(lambda contrato: contrato[\"_id\"][\"contmaticId\"], lista_contratos))\n",
    "\n",
    "contmaticIds"
   ]
  },
  {
   "cell_type": "code",
   "execution_count": 30,
   "metadata": {},
   "outputs": [],
   "source": [
    "contmaticIds\n",
    "\n",
    "if len(contmaticIds) > 1:\n",
    "    listaInfoContrato = []\n",
    "    for contmaticid in contmaticIds:\n",
    "        coll_usuario_contrato_contmaticId = db_connecticont_social[\"contrato\"]\n",
    "        queryContimaticId = {\"_id\": contmaticid}\n",
    "        projection = {\n",
    "            \"razaoSocial\": 1,\n",
    "            \"cpfCnpj\" : 1\n",
    "        }\n",
    "        cursor_contrato = coll_usuario_contrato_contmaticId.find(queryContimaticId, projection)\n",
    "        listaInfoContrato.append(cursor_contrato.next())\n",
    "    \n",
    "\n",
    "mongoclient.close()"
   ]
  },
  {
   "cell_type": "code",
   "execution_count": 31,
   "metadata": {},
   "outputs": [
    {
     "data": {
      "text/plain": [
       "[424]"
      ]
     },
     "execution_count": 31,
     "metadata": {},
     "output_type": "execute_result"
    }
   ],
   "source": [
    "contmaticIds\n"
   ]
  }
 ],
 "metadata": {
  "kernelspec": {
   "display_name": "Python 3",
   "language": "python",
   "name": "python3"
  },
  "language_info": {
   "codemirror_mode": {
    "name": "ipython",
    "version": 3
   },
   "file_extension": ".py",
   "mimetype": "text/x-python",
   "name": "python",
   "nbconvert_exporter": "python",
   "pygments_lexer": "ipython3",
   "version": "3.11.1"
  },
  "orig_nbformat": 4
 },
 "nbformat": 4,
 "nbformat_minor": 2
}
