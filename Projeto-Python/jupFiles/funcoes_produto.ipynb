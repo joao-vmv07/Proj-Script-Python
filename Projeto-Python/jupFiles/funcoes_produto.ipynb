{
 "cells": [
  {
   "cell_type": "code",
   "execution_count": 1,
   "metadata": {},
   "outputs": [],
   "source": [
    "from faker import Faker\n",
    "import random\n",
    "import sys\n",
    "import string"
   ]
  },
  {
   "cell_type": "code",
   "execution_count": null,
   "metadata": {},
   "outputs": [],
   "source": [
    "locales = 'pt-BR'\n",
    "fake = Faker(locales)"
   ]
  },
  {
   "cell_type": "code",
   "execution_count": null,
   "metadata": {},
   "outputs": [],
   "source": [
    "status = ['Ativo', 'Inativo']\n",
    "origem = ['0 - Nacional: exceto as indicadas nos códigos 3, 4, 5 e 8', '1 - Estrangeira: importação direta, exceto a indicada no código 6', '2 - Estrangeira: adquirida no mercado interno, exceto a indicada no código 7', '3 - Nacional: mercadoria ou bem com Conteúdo de Importação superior a 40% e inferior ou igual a 70%', '4 - Nacional: produção em conformidade com processos básicos tratados na legislação dos Ajustes', '5 - Nacional: mercadoria ou bem com Conteúdo de Importação inferior ou igual a 40%', '6 - Estrangeira: importação direta, sem similar nacional, constante em lista da CAMEX', '7 - Estrangeira: adquirida no mercado interno, sem similar nacional, constante em lista da CAMEX', '8 - Nacional: mercadoria ou bem com Conteúdo de Importação superior a 70%']\n",
    "tipoProduto = ['00 - Mercadoria para Revenda', '01 - Matéria Prima', '02 - Embalagens', '03 - Produto em Processo', '04 - Produto Acabado', '05 - Subproduto', '06 - Produto Intermediário', '07 - Material de uso e consumo', '08 - Ativo Imobilizado', '10 - Outros Insumos', '99 - Outros']\n",
    "unidadeMedida = ['Ampola','Balde','Barra','Bobina','Bloco']\n",
    "ncm = ['01012100','02011000', '12116000', '55094200', '90302010']\n",
    "cest = ['0100100', '0200100', '0300100', '0400100', '2899900']\n"
   ]
  },
  {
   "cell_type": "code",
   "execution_count": null,
   "metadata": {},
   "outputs": [],
   "source": [
    "def generate_status():\n",
    "    return random.choice(status)"
   ]
  },
  {
   "cell_type": "code",
   "execution_count": null,
   "metadata": {},
   "outputs": [],
   "source": [
    "def generate_codigoProduto():\n",
    "    return fake.pyint()"
   ]
  },
  {
   "cell_type": "code",
   "execution_count": null,
   "metadata": {},
   "outputs": [],
   "source": [
    "def generate_nomeProduto():\n",
    "    return fake.pystr()"
   ]
  },
  {
   "cell_type": "code",
   "execution_count": null,
   "metadata": {},
   "outputs": [],
   "source": [
    "def generate_codigoBarras():\n",
    "    return fake.ean()"
   ]
  },
  {
   "cell_type": "code",
   "execution_count": null,
   "metadata": {},
   "outputs": [],
   "source": [
    "def generete_precoVenda():\n",
    "    return round(random.uniform(0.00, 1000.00), 2)"
   ]
  },
  {
   "cell_type": "code",
   "execution_count": null,
   "metadata": {},
   "outputs": [],
   "source": [
    "def generate_marca():\n",
    "    return ''.join(random.choices(string.ascii_uppercase, k=5))"
   ]
  },
  {
   "cell_type": "code",
   "execution_count": null,
   "metadata": {},
   "outputs": [],
   "source": [
    "def generate_peso_():\n",
    "    return round(random.uniform(0.00, 90.00), 3)"
   ]
  },
  {
   "cell_type": "code",
   "execution_count": null,
   "metadata": {},
   "outputs": [],
   "source": [
    "def generate_unidadeMedida():\n",
    "    return random.choice(unidadeMedida)"
   ]
  },
  {
   "cell_type": "code",
   "execution_count": null,
   "metadata": {},
   "outputs": [],
   "source": [
    "def generate_valorAtributo():\n",
    "    return ''.join(random.choices(string.ascii_uppercase, k=2)) \n"
   ]
  },
  {
   "cell_type": "code",
   "execution_count": null,
   "metadata": {},
   "outputs": [],
   "source": [
    "def generate_informacoesAdicionais():\n",
    "    return fake.catch_phrase()"
   ]
  },
  {
   "cell_type": "code",
   "execution_count": null,
   "metadata": {},
   "outputs": [],
   "source": [
    "def generate_estoqueMinimo():\n",
    "    return '1'"
   ]
  },
  {
   "cell_type": "code",
   "execution_count": null,
   "metadata": {},
   "outputs": [],
   "source": [
    "def generate_estoque():\n",
    "    return fake.pyint()"
   ]
  },
  {
   "cell_type": "code",
   "execution_count": null,
   "metadata": {},
   "outputs": [],
   "source": [
    "def generate_origem():\n",
    "    return random.choice(origem)"
   ]
  },
  {
   "cell_type": "code",
   "execution_count": null,
   "metadata": {},
   "outputs": [],
   "source": [
    "def generate_tipoProduto():\n",
    "    return random.choice(tipoProduto)"
   ]
  },
  {
   "cell_type": "code",
   "execution_count": null,
   "metadata": {},
   "outputs": [],
   "source": [
    "def generate_NCM():\n",
    "    return random.choice(ncm)"
   ]
  },
  {
   "cell_type": "code",
   "execution_count": null,
   "metadata": {},
   "outputs": [],
   "source": [
    "def generate_exTipi():\n",
    "    return fake.pyint()"
   ]
  },
  {
   "cell_type": "code",
   "execution_count": 20,
   "metadata": {},
   "outputs": [],
   "source": [
    "def generate_controleFCI():\n",
    "    return random.getrandbits(105)\n"
   ]
  },
  {
   "cell_type": "code",
   "execution_count": null,
   "metadata": {},
   "outputs": [],
   "source": [
    "def generate_aliquotaTributosFederal():\n",
    "    return fake.pyint()"
   ]
  },
  {
   "cell_type": "code",
   "execution_count": null,
   "metadata": {},
   "outputs": [],
   "source": [
    "def generate_aliquotaTributosEstadual():\n",
    "    return fake.pyint()"
   ]
  },
  {
   "cell_type": "code",
   "execution_count": null,
   "metadata": {},
   "outputs": [],
   "source": [
    "def generate_CEST():\n",
    "    return random.choice(cest)\n"
   ]
  },
  {
   "cell_type": "code",
   "execution_count": null,
   "metadata": {},
   "outputs": [],
   "source": [
    "def generate_codigoTributacao():\n",
    "    return fake.pyint()"
   ]
  },
  {
   "cell_type": "code",
   "execution_count": 19,
   "metadata": {},
   "outputs": [],
   "source": [
    "def generate_codigoBeneficioUF():\n",
    "    return random.getrandbits(25)"
   ]
  },
  {
   "cell_type": "code",
   "execution_count": null,
   "metadata": {},
   "outputs": [],
   "source": [
    "def generate_nome():\n",
    "    return fake.name()"
   ]
  }
 ],
 "metadata": {
  "kernelspec": {
   "display_name": "Python 3",
   "language": "python",
   "name": "python3"
  },
  "language_info": {
   "codemirror_mode": {
    "name": "ipython",
    "version": 3
   },
   "file_extension": ".py",
   "mimetype": "text/x-python",
   "name": "python",
   "nbconvert_exporter": "python",
   "pygments_lexer": "ipython3",
   "version": "3.11.1 (tags/v3.11.1:a7a450f, Dec  6 2022, 19:58:39) [MSC v.1934 64 bit (AMD64)]"
  },
  "orig_nbformat": 4,
  "vscode": {
   "interpreter": {
    "hash": "ba7ae0cf963ad41d5ef8327127b25e75227db6cae1606a44bab9eddf3d9970e7"
   }
  }
 },
 "nbformat": 4,
 "nbformat_minor": 2
}
