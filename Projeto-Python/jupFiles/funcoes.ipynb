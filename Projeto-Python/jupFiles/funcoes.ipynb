{
 "cells": [
  {
   "cell_type": "code",
   "execution_count": 1,
   "metadata": {},
   "outputs": [],
   "source": [
    "from faker import Faker\n",
    "import random\n",
    "import sys"
   ]
  },
  {
   "cell_type": "code",
   "execution_count": 2,
   "metadata": {},
   "outputs": [],
   "source": [
    "locales = 'pt-BR'\n",
    "fake = Faker(locales)"
   ]
  },
  {
   "cell_type": "code",
   "execution_count": 10,
   "metadata": {},
   "outputs": [],
   "source": [
    "status = ['Ativo', 'Inativo']\n",
    "tipoCadastro = ['Cliente', 'Fornecedor', 'Transportadora', 'Cliente | Fornecedor', 'Cliente | Fornecedor | Transportadora', 'Cliente | Transportadora', 'Fornecedor | Transportadora']\n",
    "perfilParceiro = ['Pessoa Física', 'Pessoa Jurídica', 'Estrangeiro']\n",
    "documentoIdentificacao = [fake.cpf(), fake.cnpj(), fake.ssn()]\n",
    "tipoInscricaoEstadual = ['Isento', 'Contribuinte', 'Não Contribuinte']\n",
    "cnae = ['3250706','4530702','4530706','4613300']\n",
    "suframa = ['82252918', '87866990', '24794329', '502300']\n",
    "documento = [fake.cpf(), fake.cnpj()]\n",
    "tipoTelefone = ['Celular', 'Comercial', 'Residencial', 'FAX', 'Outros']\n",
    "tipoEndereco = ['Comercial', 'Residencial', 'Cobrança', 'Entrega', 'Outros']"
   ]
  },
  {
   "cell_type": "code",
   "execution_count": 9,
   "metadata": {},
   "outputs": [],
   "source": [
    "def generate_status():\n",
    "    return random.choice(status)"
   ]
  },
  {
   "cell_type": "code",
   "execution_count": null,
   "metadata": {},
   "outputs": [],
   "source": [
    "def generate_tipoCadastro():  \n",
    "    return random.choice(tipoCadastro)"
   ]
  },
  {
   "cell_type": "code",
   "execution_count": null,
   "metadata": {},
   "outputs": [],
   "source": [
    "def generate_perfilParceiro():   \n",
    "    return random.choice(perfilParceiro)"
   ]
  },
  {
   "cell_type": "code",
   "execution_count": null,
   "metadata": {},
   "outputs": [],
   "source": [
    "def generate_documentoIdentificacao():  \n",
    "    return random.choice(documentoIdentificacao)"
   ]
  },
  {
   "cell_type": "code",
   "execution_count": null,
   "metadata": {},
   "outputs": [],
   "source": [
    "def generate_razaoSocial():\n",
    "    return fake.company()"
   ]
  },
  {
   "cell_type": "code",
   "execution_count": null,
   "metadata": {},
   "outputs": [],
   "source": [
    "def generate_nome():\n",
    "    return fake.nome()"
   ]
  },
  {
   "cell_type": "code",
   "execution_count": null,
   "metadata": {},
   "outputs": [],
   "source": [
    "def generate_nomeFantasia():\n",
    "    return fake.bs()"
   ]
  },
  {
   "cell_type": "code",
   "execution_count": null,
   "metadata": {},
   "outputs": [],
   "source": [
    "def generate_dataAniversario():\n",
    "    return fake.date_of_birth()"
   ]
  },
  {
   "cell_type": "code",
   "execution_count": null,
   "metadata": {},
   "outputs": [],
   "source": [
    "def generate_CNAE():\n",
    "    return random.choice(cnae)"
   ]
  },
  {
   "cell_type": "code",
   "execution_count": null,
   "metadata": {},
   "outputs": [],
   "source": [
    "def generate_inscricaoMunicipal():\n",
    "    return fake.pyint()"
   ]
  },
  {
   "cell_type": "code",
   "execution_count": null,
   "metadata": {},
   "outputs": [],
   "source": [
    "def generate_tipoInscricaoEstadual():\n",
    "    return random.choice(tipoInscricaoEstadual)"
   ]
  },
  {
   "cell_type": "code",
   "execution_count": null,
   "metadata": {},
   "outputs": [],
   "source": [
    "def generate_inscricaoEstadual():\n",
    "    return fake.pyint()"
   ]
  },
  {
   "cell_type": "code",
   "execution_count": null,
   "metadata": {},
   "outputs": [],
   "source": [
    "def generate_SUFRAMA():\n",
    "    return random.choice(suframa)"
   ]
  },
  {
   "cell_type": "code",
   "execution_count": null,
   "metadata": {},
   "outputs": [],
   "source": [
    "def generate_documento():\n",
    "    return random.choice(documento)"
   ]
  },
  {
   "cell_type": "code",
   "execution_count": null,
   "metadata": {},
   "outputs": [],
   "source": [
    "def generate_areaResponsavel():\n",
    "    return fake.bs()"
   ]
  },
  {
   "cell_type": "code",
   "execution_count": null,
   "metadata": {},
   "outputs": [],
   "source": [
    "def generate_recebeXML():\n",
    "    return random.choice(['Sim', 'Não'])"
   ]
  },
  {
   "cell_type": "code",
   "execution_count": null,
   "metadata": {},
   "outputs": [],
   "source": [
    "def gerenate_tipoTelefone():\n",
    "    return random.choice(tipoTelefone)"
   ]
  },
  {
   "cell_type": "code",
   "execution_count": 14,
   "metadata": {},
   "outputs": [
    {
     "name": "stdout",
     "output_type": "stream",
     "text": [
      "0900-824-3714\n"
     ]
    }
   ],
   "source": [
    "def generate_telefone():\n",
    "    return fake.phone_number()"
   ]
  },
  {
   "cell_type": "code",
   "execution_count": null,
   "metadata": {},
   "outputs": [],
   "source": [
    "def generate_email():\n",
    "    return fake.ascii_free_email()"
   ]
  },
  {
   "cell_type": "code",
   "execution_count": null,
   "metadata": {},
   "outputs": [],
   "source": [
    "def generate_tipoEndereco():\n",
    "    return random.choice(tipoEndereco)"
   ]
  },
  {
   "cell_type": "code",
   "execution_count": null,
   "metadata": {},
   "outputs": [],
   "source": [
    "def generate_CEP():\n",
    "    return fake.postcode()"
   ]
  },
  {
   "cell_type": "code",
   "execution_count": null,
   "metadata": {},
   "outputs": [],
   "source": [
    "def generate_logradouro():\n",
    "    return fake.street_name()"
   ]
  },
  {
   "cell_type": "code",
   "execution_count": null,
   "metadata": {},
   "outputs": [],
   "source": [
    "def generate_numeroImovel():\n",
    "    return fake.building_number()"
   ]
  },
  {
   "cell_type": "code",
   "execution_count": null,
   "metadata": {},
   "outputs": [],
   "source": [
    "def generate_complemento():\n",
    "    return fake.address()"
   ]
  },
  {
   "cell_type": "code",
   "execution_count": null,
   "metadata": {},
   "outputs": [],
   "source": [
    "def generate_municipio():\n",
    "    return fake.neighborhood()"
   ]
  },
  {
   "cell_type": "code",
   "execution_count": null,
   "metadata": {},
   "outputs": [],
   "source": [
    "def generate_bairro():\n",
    "    return fake.bairro()"
   ]
  },
  {
   "cell_type": "code",
   "execution_count": null,
   "metadata": {},
   "outputs": [],
   "source": [
    "def generate_UF():\n",
    "    return fake.estado_sigla()"
   ]
  },
  {
   "cell_type": "code",
   "execution_count": null,
   "metadata": {},
   "outputs": [],
   "source": []
  }
 ],
 "metadata": {
  "kernelspec": {
   "display_name": "Python 3",
   "language": "python",
   "name": "python3"
  },
  "language_info": {
   "codemirror_mode": {
    "name": "ipython",
    "version": 3
   },
   "file_extension": ".py",
   "mimetype": "text/x-python",
   "name": "python",
   "nbconvert_exporter": "python",
   "pygments_lexer": "ipython3",
   "version": "3.11.1 (tags/v3.11.1:a7a450f, Dec  6 2022, 19:58:39) [MSC v.1934 64 bit (AMD64)]"
  },
  "orig_nbformat": 4,
  "vscode": {
   "interpreter": {
    "hash": "ba7ae0cf963ad41d5ef8327127b25e75227db6cae1606a44bab9eddf3d9970e7"
   }
  }
 },
 "nbformat": 4,
 "nbformat_minor": 2
}
