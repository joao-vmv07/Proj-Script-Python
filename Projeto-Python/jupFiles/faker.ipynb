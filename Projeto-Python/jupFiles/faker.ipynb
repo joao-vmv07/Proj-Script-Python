{
 "cells": [
  {
   "cell_type": "code",
   "execution_count": 2,
   "metadata": {},
   "outputs": [],
   "source": [
    "from faker import Faker\n",
    "import random\n",
    "import sys"
   ]
  },
  {
   "cell_type": "code",
   "execution_count": null,
   "metadata": {},
   "outputs": [],
   "source": [
    "arg1 = sys.argv[0]\n",
    "arg2 = sys.argv[1]\n",
    "arg3 = sys.argv[2]"
   ]
  },
  {
   "cell_type": "code",
   "execution_count": null,
   "metadata": {},
   "outputs": [],
   "source": [
    "print('arg1', arg1)\n",
    "print('arg2', arg2)\n",
    "print('arg3', arg3)"
   ]
  },
  {
   "cell_type": "code",
   "execution_count": 3,
   "metadata": {},
   "outputs": [],
   "source": [
    "quantidade = 1\n",
    "locales = 'pt-BR'\n",
    "fake = Faker(locales)"
   ]
  },
  {
   "cell_type": "code",
   "execution_count": 10,
   "metadata": {},
   "outputs": [
    {
     "name": "stdout",
     "output_type": "stream",
     "text": [
      "82356794182\n",
      "enable vertical e-business\n",
      "Moura Ribeiro - ME\n",
      "cnpj 34.012.685/0001-08\n",
      "cpf 432.608.597-56\n"
     ]
    }
   ],
   "source": [
    "contador = 0\n",
    "for contador in range (quantidade):\n",
    "   # print(fake.name())\n",
    "   # print(fake.date())\n",
    "    print(fake.ssn())\n",
    "   # print(fake.email())\n",
    "   # print(fake.job())\n",
    "   # print(fake.estado_sigla())\n",
    "   # print(fake.estado_nome())\n",
    "   #  print(fake.address())\n",
    "   # print(fake.estado())\n",
    "   # print(fake.text())\n",
    "    print(fake.bs())\n",
    "    print(fake.company())\n",
    "   # print(fake.profile())\n",
    "   # print(fake.ascii_email())\n",
    "   # print(fake.ascii_company_email())\n",
    "   # print(fake.ascii_free_email())\n",
    "    print('cnpj', fake.cnpj())\n",
    "    print('cpf', fake.cpf())\n",
    "   #  print('cep', fake.postcode())\n",
    "   #  print(fake.building_number())\n",
    "   #  print(fake.pyint())"
   ]
  },
  {
   "cell_type": "code",
   "execution_count": 49,
   "metadata": {},
   "outputs": [
    {
     "name": "stdout",
     "output_type": "stream",
     "text": [
      "Status do parceiro: Inativo\n"
     ]
    }
   ],
   "source": [
    "statusParceiro = ['Ativo', 'Inativo']\n",
    "elemento = random.choice(statusParceiro)\n",
    "\n",
    "print(f'Status do parceiro: {elemento}')"
   ]
  },
  {
   "cell_type": "code",
   "execution_count": 53,
   "metadata": {},
   "outputs": [
    {
     "name": "stdout",
     "output_type": "stream",
     "text": [
      "Documentos: 16.290.785/0001-14\n"
     ]
    }
   ],
   "source": [
    "documento = [fake.cpf(), fake.cnpj(), fake.ssn()]\n",
    "elemento = random.choice(documento)\n",
    "\n",
    "print(f'Documentos: {elemento}')"
   ]
  },
  {
   "cell_type": "code",
   "execution_count": 57,
   "metadata": {},
   "outputs": [
    {
     "name": "stdout",
     "output_type": "stream",
     "text": [
      "Tipo de parceiro: Cliente\n"
     ]
    }
   ],
   "source": [
    "tipoParceiro = ['Fornecedor', 'Transportadora', 'Cliente']\n",
    "elemento = random.choice(tipoParceiro)\n",
    "\n",
    "print(f'Tipo de parceiro: {elemento}')"
   ]
  },
  {
   "cell_type": "code",
   "execution_count": 37,
   "metadata": {},
   "outputs": [
    {
     "name": "stdout",
     "output_type": "stream",
     "text": [
      "Tipo de endereço: Outros\n"
     ]
    }
   ],
   "source": [
    "tipoEndereco = ['Comercial', 'Residencial', 'Cobrança', 'Entrega', 'Outros']\n",
    "elemento = random.choice(tipoEndereco)\n",
    "\n",
    "print(f'Tipo de endereço: {elemento}')"
   ]
  },
  {
   "cell_type": "code",
   "execution_count": 38,
   "metadata": {},
   "outputs": [
    {
     "name": "stdout",
     "output_type": "stream",
     "text": [
      "Perfil do parceiro: Pessoa Física\n"
     ]
    }
   ],
   "source": [
    "perfilParceiro = ['Pessoa Física', 'Pessoa Jurídica', 'Estrangeiro']\n",
    "elemento = random.choice(perfilParceiro)\n",
    "\n",
    "print(f'Perfil do parceiro: {elemento}')"
   ]
  },
  {
   "cell_type": "code",
   "execution_count": 39,
   "metadata": {},
   "outputs": [
    {
     "name": "stdout",
     "output_type": "stream",
     "text": [
      "Tipo de Inscrição Estadual: Não Contribuinte\n"
     ]
    }
   ],
   "source": [
    "tipoInscricaoEstadual = ['Isento', 'Contribuinte', 'Não Contribuinte']\n",
    "elemento = random.choice(tipoInscricaoEstadual)\n",
    "\n",
    "print(f'Tipo de Inscrição Estadual: {elemento}')"
   ]
  }
 ],
 "metadata": {
  "kernelspec": {
   "display_name": "Python 3",
   "language": "python",
   "name": "python3"
  },
  "language_info": {
   "codemirror_mode": {
    "name": "ipython",
    "version": 3
   },
   "file_extension": ".py",
   "mimetype": "text/x-python",
   "name": "python",
   "nbconvert_exporter": "python",
   "pygments_lexer": "ipython3",
   "version": "3.11.1 (tags/v3.11.1:a7a450f, Dec  6 2022, 19:58:39) [MSC v.1934 64 bit (AMD64)]"
  },
  "orig_nbformat": 4,
  "vscode": {
   "interpreter": {
    "hash": "ba7ae0cf963ad41d5ef8327127b25e75227db6cae1606a44bab9eddf3d9970e7"
   }
  }
 },
 "nbformat": 4,
 "nbformat_minor": 2
}
