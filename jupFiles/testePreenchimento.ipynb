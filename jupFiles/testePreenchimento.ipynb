{
 "cells": [
  {
   "cell_type": "code",
   "execution_count": 17,
   "metadata": {},
   "outputs": [
    {
     "ename": "ModuleNotFoundError",
     "evalue": "No module named 'funcoes'",
     "output_type": "error",
     "traceback": [
      "\u001b[1;31m---------------------------------------------------------------------------\u001b[0m",
      "\u001b[1;31mModuleNotFoundError\u001b[0m                       Traceback (most recent call last)",
      "Cell \u001b[1;32mIn[17], line 4\u001b[0m\n\u001b[0;32m      2\u001b[0m \u001b[39mimport\u001b[39;00m \u001b[39mjson\u001b[39;00m\n\u001b[0;32m      3\u001b[0m \u001b[39mfrom\u001b[39;00m \u001b[39mfaker\u001b[39;00m \u001b[39mimport\u001b[39;00m Faker\n\u001b[1;32m----> 4\u001b[0m \u001b[39mfrom\u001b[39;00m \u001b[39mfuncoes\u001b[39;00m \u001b[39mimport\u001b[39;00m \u001b[39m*\u001b[39m\n\u001b[0;32m      6\u001b[0m \u001b[39mdef\u001b[39;00m \u001b[39mgerarlistaCadastroTodosCampos\u001b[39m():\n\u001b[0;32m      7\u001b[0m     listaCadastroCompleto \u001b[39m=\u001b[39m [ \u001b[39m'\u001b[39m\u001b[39m01\u001b[39m\u001b[39m'\u001b[39m,generate_status(), generate_tipoCadastro(), generate_perfilParceiro(),generate_documentoIdentificacao(),\n\u001b[0;32m      8\u001b[0m     generate_razaoSocial(),generate_nomeFantasia(),generate_dataAniversario(),generate_CNAE(),generate_inscricaoMunicipal(),\n\u001b[0;32m      9\u001b[0m     generate_tipoInscricaoEstadual(),generate_inscricaoEstadual(),generate_SUFRAMA(),generate_nome(),generate_documento(),generate_areaResponsavel(),generate_recebeXML(),gerenate_tipoTelefone(),generate_telefone(),generate_email(),\n\u001b[0;32m     10\u001b[0m     generate_tipoEndereco(),generate_CEP(),generate_logradouro(),generate_numeroPropriedade(),generate_complemento(),\n\u001b[0;32m     11\u001b[0m     generate_municipio(),generate_bairro(),generate_UF(),generate_pais() ]\n",
      "\u001b[1;31mModuleNotFoundError\u001b[0m: No module named 'funcoes'"
     ]
    }
   ],
   "source": [
    "import openpyxl\n",
    "\n",
    "planilha = openpyxl.load_workbook('')\n",
    "paginaParceiro = planilha['importar-parceiros']"
   ]
  }
 ],
 "metadata": {
  "kernelspec": {
   "display_name": "Python 3",
   "language": "python",
   "name": "python3"
  },
  "language_info": {
   "codemirror_mode": {
    "name": "ipython",
    "version": 3
   },
   "file_extension": ".py",
   "mimetype": "text/x-python",
   "name": "python",
   "nbconvert_exporter": "python",
   "pygments_lexer": "ipython3",
   "version": "3.11.1"
  },
  "orig_nbformat": 4,
  "vscode": {
   "interpreter": {
    "hash": "ba7ae0cf963ad41d5ef8327127b25e75227db6cae1606a44bab9eddf3d9970e7"
   }
  }
 },
 "nbformat": 4,
 "nbformat_minor": 2
}
