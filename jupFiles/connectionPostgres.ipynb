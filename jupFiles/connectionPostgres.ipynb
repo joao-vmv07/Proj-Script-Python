{
 "cells": [
  {
   "cell_type": "code",
   "execution_count": 16,
   "metadata": {},
   "outputs": [],
   "source": [
    "import pandas as pd\n",
    "import psycopg2\n",
    "from sqlalchemy import create_engine,text\n",
    "# CAMPOS\n",
    "#   Atributo\n",
    "#   Grupo\n",
    "#   Código tributação"
   ]
  },
  {
   "cell_type": "code",
   "execution_count": 17,
   "metadata": {},
   "outputs": [],
   "source": [
    "contmaticId = 32725\n",
    "\n",
    "conn = create_engine('postgresql+psycopg2://postgres@192.168.5.27/erp')\n",
    "queryNomeAtributo = f'''\n",
    "    SELECT nome\n",
    "\tFROM atributo\n",
    "    WHERE contmatic_id = {contmaticId}\n",
    "'''\n",
    "queryNomeGrupo = f'''\n",
    "    SELECT nome\n",
    "\tFROM grupo\n",
    "    WHERE contmatic_id = {contmaticId}\n",
    "'''\n",
    "\n",
    "queryTributacao = '''\n",
    "    select codigo\n",
    "    from tributacao where contmatic_id = 32725;\n",
    "'''\n"
   ]
  },
  {
   "cell_type": "code",
   "execution_count": 18,
   "metadata": {},
   "outputs": [],
   "source": [
    "resultAtributo = conn.connect().execute(text(queryNomeAtributo))\n",
    "resultGrupo = conn.connect().execute(text(queryNomeGrupo))\n",
    "resultTributacao = conn.connect().execute(text(queryTributacao))"
   ]
  },
  {
   "cell_type": "code",
   "execution_count": 19,
   "metadata": {},
   "outputs": [
    {
     "data": {
      "text/plain": [
       "'teste figjdf'"
      ]
     },
     "execution_count": 19,
     "metadata": {},
     "output_type": "execute_result"
    }
   ],
   "source": [
    "\n",
    "import random\n",
    "listaAtributos = list(map(lambda e: e[0], list(resultAtributo)))\n",
    "listaGrupos = list(map(lambda e: e[0], list(resultGrupo)))\n",
    "listaCodigoTributacao = list(map(lambda e: e[0], list(resultTributacao)))\n",
    "\n",
    "\n",
    "\n"
   ]
  }
 ],
 "metadata": {
  "kernelspec": {
   "display_name": "Python 3",
   "language": "python",
   "name": "python3"
  },
  "language_info": {
   "codemirror_mode": {
    "name": "ipython",
    "version": 3
   },
   "file_extension": ".py",
   "mimetype": "text/x-python",
   "name": "python",
   "nbconvert_exporter": "python",
   "pygments_lexer": "ipython3",
   "version": "3.11.1"
  },
  "orig_nbformat": 4,
  "vscode": {
   "interpreter": {
    "hash": "ba7ae0cf963ad41d5ef8327127b25e75227db6cae1606a44bab9eddf3d9970e7"
   }
  }
 },
 "nbformat": 4,
 "nbformat_minor": 2
}
