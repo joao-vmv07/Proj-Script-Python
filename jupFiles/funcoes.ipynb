{
 "cells": [
  {
   "cell_type": "code",
   "execution_count": 24,
   "metadata": {},
   "outputs": [],
   "source": [
    "from faker import Faker\n",
    "import random\n",
    "import sys\n",
    "import string"
   ]
  },
  {
   "cell_type": "code",
   "execution_count": 2,
   "metadata": {},
   "outputs": [],
   "source": [
    "locales = 'pt-BR'\n",
    "fake = Faker(locales)"
   ]
  },
  {
   "cell_type": "code",
   "execution_count": 10,
   "metadata": {},
   "outputs": [],
   "source": [
    "status = ['Ativo', 'Inativo']\n",
    "tipoCadastro = ['Cliente', 'Fornecedor', 'Transportadora', 'Cliente | Fornecedor', 'Cliente | Fornecedor | Transportadora', 'Cliente | Transportadora', 'Fornecedor | Transportadora']\n",
    "perfilParceiro = ['Pessoa Física', 'Pessoa Jurídica', 'Estrangeiro']\n",
    "documentoIdentificacao = [fake.cpf(), fake.cnpj(), fake.ssn()]\n",
    "tipoInscricaoEstadual = ['Isento', 'Contribuinte', 'Não Contribuinte']\n",
    "cnae = ['3250706','4530702','4530706','4613300']\n",
    "suframa = ['82252918', '87866990', '24794329', '502300']\n",
    "documento = [fake.cpf(), fake.cnpj()]\n",
    "tipoTelefone = ['Celular', 'Comercial', 'Residencial', 'FAX', 'Outros']\n",
    "tipoEndereco = [\"COMERCIAL\", \"RESIDENCIAL\", \"COBRANCA\", \"ENTREGA\", \"OUTROS\"]"
   ]
  },
  {
   "cell_type": "code",
   "execution_count": 49,
   "metadata": {},
   "outputs": [
    {
     "name": "stdout",
     "output_type": "stream",
     "text": [
      "2520329565\n"
     ]
    }
   ],
   "source": [
    "def generate_status():\n",
    "    return random.choice(status)\n",
    "\n",
    "def generate_telefone():\n",
    "    return random.getrandbits(34)\n",
    "\n",
    "print(generate_telefone())"
   ]
  },
  {
   "cell_type": "code",
   "execution_count": null,
   "metadata": {},
   "outputs": [],
   "source": [
    "def generate_tipoCadastro():  \n",
    "    return random.choice(tipoCadastro)"
   ]
  },
  {
   "cell_type": "code",
   "execution_count": null,
   "metadata": {},
   "outputs": [],
   "source": [
    "def generate_perfilParceiro():   \n",
    "    return random.choice(perfilParceiro)"
   ]
  },
  {
   "cell_type": "code",
   "execution_count": null,
   "metadata": {},
   "outputs": [],
   "source": [
    "def generate_documentoIdentificacao():  \n",
    "    return random.choice(documentoIdentificacao)"
   ]
  },
  {
   "cell_type": "code",
   "execution_count": null,
   "metadata": {},
   "outputs": [],
   "source": [
    "def generate_razaoSocial():\n",
    "    return fake.company()"
   ]
  },
  {
   "cell_type": "code",
   "execution_count": null,
   "metadata": {},
   "outputs": [],
   "source": [
    "def generate_nome():\n",
    "    return fake.nome()"
   ]
  },
  {
   "cell_type": "code",
   "execution_count": null,
   "metadata": {},
   "outputs": [],
   "source": [
    "def generate_nomeFantasia():\n",
    "    return fake.bs()"
   ]
  },
  {
   "cell_type": "code",
   "execution_count": null,
   "metadata": {},
   "outputs": [],
   "source": [
    "def generate_dataAniversario():\n",
    "    return fake.date_of_birth()"
   ]
  },
  {
   "cell_type": "code",
   "execution_count": null,
   "metadata": {},
   "outputs": [],
   "source": [
    "def generate_CNAE():\n",
    "    return random.choice(cnae)"
   ]
  },
  {
   "cell_type": "code",
   "execution_count": null,
   "metadata": {},
   "outputs": [],
   "source": [
    "def generate_inscricaoMunicipal():\n",
    "    return fake.pyint()"
   ]
  },
  {
   "cell_type": "code",
   "execution_count": null,
   "metadata": {},
   "outputs": [],
   "source": [
    "def generate_tipoInscricaoEstadual():\n",
    "    return random.choice(tipoInscricaoEstadual)"
   ]
  },
  {
   "cell_type": "code",
   "execution_count": null,
   "metadata": {},
   "outputs": [],
   "source": [
    "def generate_inscricaoEstadual():\n",
    "    return fake.pyint()"
   ]
  },
  {
   "cell_type": "code",
   "execution_count": null,
   "metadata": {},
   "outputs": [],
   "source": [
    "def generate_SUFRAMA():\n",
    "    return random.choice(suframa)"
   ]
  },
  {
   "cell_type": "code",
   "execution_count": null,
   "metadata": {},
   "outputs": [],
   "source": [
    "def generate_documento():\n",
    "    return random.choice(documento)"
   ]
  },
  {
   "cell_type": "code",
   "execution_count": null,
   "metadata": {},
   "outputs": [],
   "source": [
    "def generate_areaResponsavel():\n",
    "    return fake.bs()"
   ]
  },
  {
   "cell_type": "code",
   "execution_count": null,
   "metadata": {},
   "outputs": [],
   "source": [
    "def generate_recebeXML():\n",
    "    return random.choice(['Sim', 'Não'])"
   ]
  },
  {
   "cell_type": "code",
   "execution_count": null,
   "metadata": {},
   "outputs": [],
   "source": [
    "def gerenate_tipoTelefone():\n",
    "    return random.choice(tipoTelefone)"
   ]
  },
  {
   "cell_type": "code",
   "execution_count": 14,
   "metadata": {},
   "outputs": [
    {
     "name": "stdout",
     "output_type": "stream",
     "text": [
      "0900-824-3714\n"
     ]
    }
   ],
   "source": [
    "def generate_telefone():\n",
    "    return fake.phone_number()"
   ]
  },
  {
   "cell_type": "code",
   "execution_count": null,
   "metadata": {},
   "outputs": [],
   "source": [
    "def generate_email():\n",
    "    return fake.ascii_free_email()"
   ]
  },
  {
   "cell_type": "code",
   "execution_count": 14,
   "metadata": {},
   "outputs": [
    {
     "ename": "NameError",
     "evalue": "name 'tipoEndereco' is not defined",
     "output_type": "error",
     "traceback": [
      "\u001b[1;31m---------------------------------------------------------------------------\u001b[0m",
      "\u001b[1;31mNameError\u001b[0m                                 Traceback (most recent call last)",
      "Cell \u001b[1;32mIn[14], line 4\u001b[0m\n\u001b[0;32m      1\u001b[0m \u001b[39mdef\u001b[39;00m \u001b[39mgenerate_tipoEndereco\u001b[39m():\n\u001b[0;32m      2\u001b[0m     \u001b[39mreturn\u001b[39;00m random\u001b[39m.\u001b[39mchoice(tipoEndereco)\u001b[39m.\u001b[39mupper()\n\u001b[1;32m----> 4\u001b[0m \u001b[39mprint\u001b[39m(generate_tipoEndereco())\n",
      "Cell \u001b[1;32mIn[14], line 2\u001b[0m, in \u001b[0;36mgenerate_tipoEndereco\u001b[1;34m()\u001b[0m\n\u001b[0;32m      1\u001b[0m \u001b[39mdef\u001b[39;00m \u001b[39mgenerate_tipoEndereco\u001b[39m():\n\u001b[1;32m----> 2\u001b[0m     \u001b[39mreturn\u001b[39;00m random\u001b[39m.\u001b[39mchoice(tipoEndereco)\u001b[39m.\u001b[39mupper()\n",
      "\u001b[1;31mNameError\u001b[0m: name 'tipoEndereco' is not defined"
     ]
    }
   ],
   "source": [
    "def generate_tipoEndereco():\n",
    "    return random.choice(tipoEndereco).upper()\n",
    "\n",
    "print(generate_tipoEndereco())"
   ]
  },
  {
   "cell_type": "code",
   "execution_count": 12,
   "metadata": {},
   "outputs": [
    {
     "name": "stdout",
     "output_type": "stream",
     "text": [
      "77461-335\n"
     ]
    }
   ],
   "source": [
    "def generate_CEP():\n",
    "    return fake.postcode()\n",
    "\n",
    "print(generate_CEP())"
   ]
  },
  {
   "cell_type": "code",
   "execution_count": null,
   "metadata": {},
   "outputs": [],
   "source": [
    "def generate_logradouro():\n",
    "    return fake.street_name()"
   ]
  },
  {
   "cell_type": "code",
   "execution_count": null,
   "metadata": {},
   "outputs": [],
   "source": [
    "def generate_numeroImovel():\n",
    "    return fake.building_number()"
   ]
  },
  {
   "cell_type": "code",
   "execution_count": null,
   "metadata": {},
   "outputs": [],
   "source": [
    "def generate_complemento():\n",
    "    return fake.address()"
   ]
  },
  {
   "cell_type": "code",
   "execution_count": null,
   "metadata": {},
   "outputs": [],
   "source": [
    "def generate_municipio():\n",
    "    return fake.neighborhood()"
   ]
  },
  {
   "cell_type": "code",
   "execution_count": null,
   "metadata": {},
   "outputs": [],
   "source": [
    "def generate_bairro():\n",
    "    return fake.bairro()"
   ]
  },
  {
   "cell_type": "code",
   "execution_count": null,
   "metadata": {},
   "outputs": [],
   "source": [
    "def generate_UF():\n",
    "    return fake.estado_sigla()"
   ]
  },
  {
   "cell_type": "code",
   "execution_count": null,
   "metadata": {},
   "outputs": [],
   "source": []
  }
 ],
 "metadata": {
  "kernelspec": {
   "display_name": "Python 3",
   "language": "python",
   "name": "python3"
  },
  "language_info": {
   "codemirror_mode": {
    "name": "ipython",
    "version": 3
   },
   "file_extension": ".py",
   "mimetype": "text/x-python",
   "name": "python",
   "nbconvert_exporter": "python",
   "pygments_lexer": "ipython3",
   "version": "3.11.1"
  },
  "orig_nbformat": 4,
  "vscode": {
   "interpreter": {
    "hash": "ba7ae0cf963ad41d5ef8327127b25e75227db6cae1606a44bab9eddf3d9970e7"
   }
  }
 },
 "nbformat": 4,
 "nbformat_minor": 2
}
