{
 "cells": [
  {
   "cell_type": "code",
   "execution_count": 1,
   "metadata": {},
   "outputs": [],
   "source": [
    "from faker import Faker\n",
    "import random\n",
    "import sys\n",
    "import string"
   ]
  },
  {
   "cell_type": "code",
   "execution_count": 2,
   "metadata": {},
   "outputs": [],
   "source": [
    "locales = 'pt-BR'\n",
    "fake = Faker(locales)"
   ]
  },
  {
   "cell_type": "code",
   "execution_count": 3,
   "metadata": {},
   "outputs": [],
   "source": [
    "status = ['Ativo', 'Inativo']\n",
    "tipoCadastro = ['Cliente', 'Fornecedor', 'Transportadora', 'Cliente | Fornecedor', 'Cliente | Fornecedor | Transportadora', 'Cliente | Transportadora', 'Fornecedor | Transportadora']\n",
    "perfilParceiro = ['Pessoa Física', 'Pessoa Jurídica', 'Estrangeiro']\n",
    "documentoIdentificacao = [fake.cpf(), fake.cnpj(), fake.ssn()]\n",
    "tipoInscricaoEstadual = ['Isento', 'Contribuinte', 'Não Contribuinte']\n",
    "cnae = ['3250706','4530702','4530706','4613300']\n",
    "suframa = ['82252918', '87866990', '24794329', '502300']\n",
    "documento = [fake.cpf(), fake.cnpj()]\n",
    "tipoTelefone = ['Celular', 'Comercial', 'Residencial', 'FAX', 'Outros']\n",
    "tipoEndereco = [\"COMERCIAL\", \"RESIDENCIAL\", \"COBRANCA\", \"ENTREGA\", \"OUTROS\"]"
   ]
  },
  {
   "cell_type": "code",
   "execution_count": 4,
   "metadata": {},
   "outputs": [
    {
     "name": "stdout",
     "output_type": "stream",
     "text": [
      "15223609951\n"
     ]
    }
   ],
   "source": [
    "def generate_status():\n",
    "    return random.choice(status)\n",
    "\n",
    "def generate_telefone():\n",
    "    return random.getrandbits(34)\n",
    "\n",
    "print(generate_telefone())"
   ]
  },
  {
   "cell_type": "code",
   "execution_count": 153,
   "metadata": {},
   "outputs": [
    {
     "data": {
      "text/plain": [
       "7143890"
      ]
     },
     "execution_count": 153,
     "metadata": {},
     "output_type": "execute_result"
    }
   ],
   "source": [
    "def generate_tipoCadastro():  \n",
    "    return random.choice(tipoCadastro)\n",
    "\n",
    "\n",
    "def generate_peso():\n",
    "    return round(random.uniform(0.00, 100000000000.00), 3)\n",
    "\n",
    "def generate_codigoBeneficioUF():\n",
    "    return random.getrandbits(30)\n",
    "\n",
    "generate_codigoBeneficioUF()\n"
   ]
  },
  {
   "cell_type": "code",
   "execution_count": 6,
   "metadata": {},
   "outputs": [
    {
     "data": {
      "text/plain": [
       "'59'"
      ]
     },
     "execution_count": 6,
     "metadata": {},
     "output_type": "execute_result"
    }
   ],
   "source": [
    "def generate_aliquotaTributosFederal(size = 2, chars= string.digits):\n",
    "    return ''.join(random.choice(chars) for _ in range(size))\n",
    "\n",
    "def generate_exTipi():\n",
    "    return fake.pyint(100, 999)\n",
    "\n",
    "def generate_controleFCI(size = 31, chars= string.digits):\n",
    "    return 'a'+''.join(random.choice(chars) for _ in range(size))\n",
    "\n",
    "generate_aliquotaTributosFederal()"
   ]
  },
  {
   "cell_type": "code",
   "execution_count": 124,
   "metadata": {},
   "outputs": [],
   "source": [
    "def generate_perfilParceiro():   \n",
    "    return random.choice(perfilParceiro)\n",
    "\n",
    "def generate_aliquotaTributosFederal():\n",
    "    return round(random.uniform(0.00, 1000.00), 2)\n"
   ]
  },
  {
   "cell_type": "code",
   "execution_count": 8,
   "metadata": {},
   "outputs": [],
   "source": [
    "def generate_documentoIdentificacao():  \n",
    "    return random.choice(documentoIdentificacao)"
   ]
  },
  {
   "cell_type": "code",
   "execution_count": 9,
   "metadata": {},
   "outputs": [],
   "source": [
    "def generate_razaoSocial():\n",
    "    return fake.company()"
   ]
  },
  {
   "cell_type": "code",
   "execution_count": 10,
   "metadata": {},
   "outputs": [],
   "source": [
    "def generate_nome():\n",
    "    return fake.nome()"
   ]
  },
  {
   "cell_type": "code",
   "execution_count": 11,
   "metadata": {},
   "outputs": [],
   "source": [
    "def generate_nomeFantasia():\n",
    "    return fake.bs()"
   ]
  },
  {
   "cell_type": "code",
   "execution_count": 12,
   "metadata": {},
   "outputs": [],
   "source": [
    "def generate_dataAniversario():\n",
    "    return fake.date_of_birth()"
   ]
  },
  {
   "cell_type": "code",
   "execution_count": 13,
   "metadata": {},
   "outputs": [],
   "source": [
    "def generate_CNAE():\n",
    "    return random.choice(cnae)"
   ]
  },
  {
   "cell_type": "code",
   "execution_count": 14,
   "metadata": {},
   "outputs": [],
   "source": [
    "def generate_inscricaoMunicipal():\n",
    "    return fake.pyint()"
   ]
  },
  {
   "cell_type": "code",
   "execution_count": 15,
   "metadata": {},
   "outputs": [],
   "source": [
    "def generate_tipoInscricaoEstadual():\n",
    "    return random.choice(tipoInscricaoEstadual)"
   ]
  },
  {
   "cell_type": "code",
   "execution_count": 16,
   "metadata": {},
   "outputs": [],
   "source": [
    "def generate_inscricaoEstadual():\n",
    "    return fake.pyint()"
   ]
  },
  {
   "cell_type": "code",
   "execution_count": 17,
   "metadata": {},
   "outputs": [],
   "source": [
    "def generate_SUFRAMA():\n",
    "    return random.choice(suframa)"
   ]
  },
  {
   "cell_type": "code",
   "execution_count": 18,
   "metadata": {},
   "outputs": [],
   "source": [
    "def generate_documento():\n",
    "    return random.choice(documento)"
   ]
  },
  {
   "cell_type": "code",
   "execution_count": 19,
   "metadata": {},
   "outputs": [],
   "source": [
    "def generate_areaResponsavel():\n",
    "    return fake.bs()"
   ]
  },
  {
   "cell_type": "code",
   "execution_count": 20,
   "metadata": {},
   "outputs": [],
   "source": [
    "def generate_recebeXML():\n",
    "    return random.choice(['Sim', 'Não'])"
   ]
  },
  {
   "cell_type": "code",
   "execution_count": 21,
   "metadata": {},
   "outputs": [],
   "source": [
    "def gerenate_tipoTelefone():\n",
    "    return random.choice(tipoTelefone)"
   ]
  },
  {
   "cell_type": "code",
   "execution_count": 22,
   "metadata": {},
   "outputs": [],
   "source": [
    "def generate_telefone():\n",
    "    return fake.phone_number()"
   ]
  },
  {
   "cell_type": "code",
   "execution_count": 23,
   "metadata": {},
   "outputs": [],
   "source": [
    "def generate_email():\n",
    "    return fake.ascii_free_email()"
   ]
  },
  {
   "cell_type": "code",
   "execution_count": 24,
   "metadata": {},
   "outputs": [
    {
     "name": "stdout",
     "output_type": "stream",
     "text": [
      "COBRANCA\n"
     ]
    }
   ],
   "source": [
    "def generate_tipoEndereco():\n",
    "    return random.choice(tipoEndereco).upper()\n",
    "\n",
    "print(generate_tipoEndereco())"
   ]
  },
  {
   "cell_type": "code",
   "execution_count": 25,
   "metadata": {},
   "outputs": [
    {
     "name": "stdout",
     "output_type": "stream",
     "text": [
      "14595346\n"
     ]
    }
   ],
   "source": [
    "def generate_CEP():\n",
    "    return fake.postcode()\n",
    "\n",
    "print(generate_CEP())"
   ]
  },
  {
   "cell_type": "code",
   "execution_count": 26,
   "metadata": {},
   "outputs": [],
   "source": [
    "def generate_logradouro():\n",
    "    return fake.street_name()"
   ]
  },
  {
   "cell_type": "code",
   "execution_count": 27,
   "metadata": {},
   "outputs": [],
   "source": [
    "def generate_numeroImovel():\n",
    "    return fake.building_number()"
   ]
  },
  {
   "cell_type": "code",
   "execution_count": 28,
   "metadata": {},
   "outputs": [],
   "source": [
    "def generate_complemento():\n",
    "    return fake.address()"
   ]
  },
  {
   "cell_type": "code",
   "execution_count": 29,
   "metadata": {},
   "outputs": [],
   "source": [
    "def generate_municipio():\n",
    "    return fake.neighborhood()"
   ]
  },
  {
   "cell_type": "code",
   "execution_count": 30,
   "metadata": {},
   "outputs": [],
   "source": [
    "def generate_bairro():\n",
    "    return fake.bairro()"
   ]
  },
  {
   "cell_type": "code",
   "execution_count": 31,
   "metadata": {},
   "outputs": [],
   "source": [
    "def generate_UF():\n",
    "    return fake.estado_sigla()"
   ]
  },
  {
   "cell_type": "code",
   "execution_count": null,
   "metadata": {},
   "outputs": [],
   "source": []
  }
 ],
 "metadata": {
  "kernelspec": {
   "display_name": "Python 3",
   "language": "python",
   "name": "python3"
  },
  "language_info": {
   "codemirror_mode": {
    "name": "ipython",
    "version": 3
   },
   "file_extension": ".py",
   "mimetype": "text/x-python",
   "name": "python",
   "nbconvert_exporter": "python",
   "pygments_lexer": "ipython3",
   "version": "3.11.1"
  },
  "orig_nbformat": 4,
  "vscode": {
   "interpreter": {
    "hash": "ba7ae0cf963ad41d5ef8327127b25e75227db6cae1606a44bab9eddf3d9970e7"
   }
  }
 },
 "nbformat": 4,
 "nbformat_minor": 2
}
